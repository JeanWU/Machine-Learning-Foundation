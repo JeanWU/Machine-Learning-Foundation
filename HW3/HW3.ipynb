{
 "cells": [
  {
   "cell_type": "markdown",
   "metadata": {},
   "source": [
    "## Q4."
   ]
  },
  {
   "cell_type": "code",
   "execution_count": 1,
   "metadata": {},
   "outputs": [],
   "source": [
    "import numpy as np\n",
    "\n",
    "train=[]\n",
    "test=[]\n",
    "\n",
    "#import data\n",
    "with open('hw3_train.dat.txt') as file:\n",
    "    for i in file.readlines():\n",
    "        train.append([1]+list(map(float,i.strip().split(' '))))\n",
    "\n",
    "with open('hw3_test.dat.txt') as file:\n",
    "    for i in file.readlines():\n",
    "        test.append([1]+list(map(float,i.strip().split(' '))))\n",
    "        \n",
    "train=np.array(train)\n",
    "test=np.array(test)\n",
    "\n",
    "#data dimension\n",
    "m=train.shape[1]-1\n",
    "#data count\n",
    "n=train.shape[0]"
   ]
  },
  {
   "cell_type": "code",
   "execution_count": 2,
   "metadata": {},
   "outputs": [],
   "source": [
    "#gradient Ein\n",
    "def f(y,w,x):\n",
    "    temp=y*w.dot(x)\n",
    "    return (-y*x)/(np.exp(temp)+1)"
   ]
  },
  {
   "cell_type": "code",
   "execution_count": 13,
   "metadata": {},
   "outputs": [],
   "source": [
    "w=np.zeros(m)\n",
    "k=0.01\n",
    "Ein_gd=[]\n",
    "\n",
    "for i in range(2000):\n",
    "    ###Gradient Descent###\n",
    "    s=np.zeros(m)\n",
    "    for j in range(n):\n",
    "        s+=f(train[j][-1],w,train[j][:-1])\n",
    "    s=s/n\n",
    "    w-=k*s\n",
    "    \n",
    "    #calculate Ein_gd\n",
    "    result=np.sign(train[:,:-1].dot(w))\n",
    "    Ein_gd.append((result!=train[:,-1]).sum()/train.shape[0])"
   ]
  },
  {
   "cell_type": "code",
   "execution_count": 14,
   "metadata": {},
   "outputs": [],
   "source": [
    "w=np.zeros(m)\n",
    "k=0.001\n",
    "Ein_sgd=[]\n",
    "j=0\n",
    "\n",
    "for i in range(2000):\n",
    "    ###Stochastic Gradient Descent###\n",
    "    if j==n-1:\n",
    "        j=0\n",
    "    s=f(train[j][-1],w,train[j][:-1])\n",
    "    w-=k*s \n",
    "    \n",
    "    #calculate Ein_sgd\n",
    "    result=np.sign(train[:,:-1].dot(w))\n",
    "    Ein_sgd.append((result!=train[:,-1]).sum()/train.shape[0])\n",
    "    \n",
    "    #update j after each iteration\n",
    "    j+=1"
   ]
  },
  {
   "cell_type": "code",
   "execution_count": 15,
   "metadata": {},
   "outputs": [
    {
     "data": {
      "image/png": "[encoded data removed]",
      "text/plain": [
       "<Figure size 432x288 with 1 Axes>"
      ]
     },
     "metadata": {},
     "output_type": "display_data"
    }
   ],
   "source": [
    "import numpy as np\n",
    "import matplotlib.pyplot as plt\n",
    "x=np.arange(2000)\n",
    "plt.plot(x,Ein_gd,label='Ein_gd')\n",
    "plt.plot(x,Ein_sgd,label='Ein_sgd')\n",
    "plt.legend()\n",
    "plt.show()"
   ]
  },
  {
   "cell_type": "markdown",
   "metadata": {},
   "source": [
    "## Q5."
   ]
  },
  {
   "cell_type": "code",
   "execution_count": 10,
   "metadata": {},
   "outputs": [],
   "source": [
    "w=np.zeros(m)\n",
    "k=0.01\n",
    "Eout_gd=[]\n",
    "\n",
    "for i in range(2000):\n",
    "    ###Gradient Descent###\n",
    "    s=np.zeros(m)\n",
    "    for j in range(n):\n",
    "        s+=f(train[j][-1],w,train[j][:-1])\n",
    "    s=s/n\n",
    "    w-=k*s\n",
    "    \n",
    "    #calculate Eout_gd\n",
    "    result=np.sign(test[:,:-1].dot(w))\n",
    "    Eout_gd.append((result!=test[:,-1]).sum()/test.shape[0])"
   ]
  },
  {
   "cell_type": "code",
   "execution_count": 19,
   "metadata": {},
   "outputs": [
    {
     "name": "stdout",
     "output_type": "stream",
     "text": [
      "0.47533333333333333\n"
     ]
    }
   ],
   "source": [
    "w=np.zeros(m)\n",
    "k=0.001\n",
    "Eout_sgd=[]\n",
    "j=0\n",
    "\n",
    "for i in range(2000):\n",
    "    ###Stochastic Gradient Descent###\n",
    "    if j==n-1:\n",
    "        j=0\n",
    "    s=f(train[j][-1],w,train[j][:-1])\n",
    "    w-=k*s \n",
    "    \n",
    "    #calculate Ein_sgd\n",
    "    result=np.sign(test[:,:-1].dot(w))\n",
    "    Eout_sgd.append((result!=test[:,-1]).sum()/test.shape[0])\n",
    "    \n",
    "    #update j after each iteration\n",
    "    j+=1\n",
    "    \n",
    "#计算Xw\n",
    "r1=test[:,:-1].dot(w)\n",
    "#计算sign(Xw)\n",
    "r2=np.sign(r1)\n",
    "#求出误差\n",
    "print((r2!=test[:,-1]).sum()/test.shape[0])"
   ]
  },
  {
   "cell_type": "code",
   "execution_count": 20,
   "metadata": {},
   "outputs": [
    {
     "data": {
      "image/png": "[encoded data removed]",
      "text/plain": [
       "<Figure size 432x288 with 1 Axes>"
      ]
     },
     "metadata": {},
     "output_type": "display_data"
    }
   ],
   "source": [
    "import numpy as np\n",
    "import matplotlib.pyplot as plt\n",
    "x=np.arange(2000)\n",
    "x1=np.arange(20000)\n",
    "plt.plot(x,Eout_gd,label='Eout_gd')\n",
    "plt.plot(x,Eout_sgd,label='Eout_sgd')\n",
    "plt.legend()\n",
    "plt.show()"
   ]
  },
  {
   "cell_type": "code",
   "execution_count": null,
   "metadata": {},
   "outputs": [],
   "source": []
  }
 ],
 "metadata": {
  "kernelspec": {
   "display_name": "Python 3",
   "language": "python",
   "name": "python3"
  },
  "language_info": {
   "codemirror_mode": {
    "name": "ipython",
    "version": 3
   },
   "file_extension": ".py",
   "mimetype": "text/x-python",
   "name": "python",
   "nbconvert_exporter": "python",
   "pygments_lexer": "ipython3",
   "version": "3.6.5"
  }
 },
 "nbformat": 4,
 "nbformat_minor": 2
}
