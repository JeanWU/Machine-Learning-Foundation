{
 "cells": [
  {
   "cell_type": "code",
   "execution_count": 1,
   "metadata": {},
   "outputs": [],
   "source": [
    "import numpy as np"
   ]
  },
  {
   "cell_type": "code",
   "execution_count": 2,
   "metadata": {},
   "outputs": [],
   "source": [
    "#sign: given x, if x<0 return -1, else return 1\n",
    "def sign(x):\n",
    "    if x<0:\n",
    "        return -1\n",
    "    else:\n",
    "        return 1"
   ]
  },
  {
   "cell_type": "code",
   "execution_count": 3,
   "metadata": {},
   "outputs": [],
   "source": [
    "def genNoise(noise_rate, data_size, x):\n",
    "    #在[-0.2,0.8]產生隨機變數，再取sign => 20%的機率是-1 => 20% noise\n",
    "    noise=np.random.uniform(size=data_size)-noise_rate\n",
    "    y=np.ones(x.shape)\n",
    "    for i in range(len(x)):\n",
    "        y[i]=sign(x[i])*sign(noise[i])\n",
    "    return y"
   ]
  },
  {
   "cell_type": "code",
   "execution_count": 4,
   "metadata": {},
   "outputs": [],
   "source": [
    "def genTheta(x):\n",
    "    n=len(x)\n",
    "    sort=sorted(x)\n",
    "    theta=np.zeros(n+1)\n",
    "    theta[0]=-1   #theta切再最左邊 => 值=-1\n",
    "    theta[n]=1  #theta切再最左邊 => 值=1\n",
    "    for i in range(1,n-1):\n",
    "        theta[i]=(sort[i]+sort[i+1])/2\n",
    "    return theta"
   ]
  },
  {
   "cell_type": "code",
   "execution_count": 5,
   "metadata": {},
   "outputs": [],
   "source": [
    "def calError(y, x, theta, s):\n",
    "    error=0\n",
    "    for i in range(len(y)):\n",
    "        if y[i]!= s*sign(x[i]-theta):\n",
    "            error+=1\n",
    "    error=error/len(y)\n",
    "    return error"
   ]
  },
  {
   "cell_type": "markdown",
   "metadata": {},
   "source": [
    "### Q.17 & Q18"
   ]
  },
  {
   "cell_type": "code",
   "execution_count": 6,
   "metadata": {},
   "outputs": [
    {
     "name": "stdout",
     "output_type": "stream",
     "text": [
      "E_in:  0.1721299999999996 E_out: 0.2580259841134223\n"
     ]
    }
   ],
   "source": [
    "data_size=20\n",
    "run=5000\n",
    "noise_rate=0.2\n",
    "E_in=0\n",
    "E_out=0\n",
    "\n",
    "for i in range(run):\n",
    "    x=np.random.uniform(-1,1,data_size)   #x-> n dimensions\n",
    "    y=genNoise(noise_rate, data_size, x)  #y-> n dimensions\n",
    "    theta=genTheta(x)  #theta => n+1  dimensions\n",
    "    e_in=np.zeros((2,len(theta)))  #e_in => 2*n+1, store the e_in errors for different s and theta\n",
    "    s_min=0\n",
    "    theta_min=0\n",
    "    e_in_min=0\n",
    "    for t in range(len(theta)):\n",
    "        e_in[0][t]=calError(y,x,theta[t],s=1)\n",
    "        e_in[1][t]=calError(y,x,theta[t],s=-1)\n",
    "    if min(e_in[0])<min(e_in[1]):  #if minimum error exists when s=1\n",
    "        s_min=1\n",
    "        theta_min=theta[np.argmin(e_in[0])]\n",
    "        e_in_min=min(e_in[0])\n",
    "    else:\n",
    "        s_min=-1\n",
    "        theta_min=theta[np.argmin(e_in[1])]\n",
    "        e_in_min=min(e_in[1])\n",
    "    e_out=0.5+0.3*s_min*(np.abs(theta_min)-1)\n",
    "    E_in+=e_in_min\n",
    "    E_out+=e_out\n",
    "    \n",
    "ave_in=E_in/run\n",
    "ave_out=E_out/run\n",
    "print('E_in: ', ave_in, 'E_out:', ave_out)"
   ]
  },
  {
   "cell_type": "code",
   "execution_count": 7,
   "metadata": {},
   "outputs": [],
   "source": [
    "#load data from file, and extract x,y\n",
    "def load_data(file_path):\n",
    "    f=open(file_path,'r')\n",
    "    lines=f.readlines()\n",
    "    sample=len(lines)  #總共的sample個數\n",
    "\n",
    "    x = np.zeros((sample, 9))\n",
    "    y = np.zeros((sample))\n",
    "    index=0\n",
    "\n",
    "    for line in lines:\n",
    "        item=line.strip().split()\n",
    "        x[index]=np.array([float(i) for i in item[0:9]])\n",
    "        y[index]=float(item[9])\n",
    "        index+=1\n",
    "    \n",
    "    return x,y"
   ]
  },
  {
   "cell_type": "code",
   "execution_count": 8,
   "metadata": {},
   "outputs": [],
   "source": [
    "#mostly copy from Q17 & Q18, given x from certain dimension, find the s, theta, and E_in\n",
    "def deciStump(x,y):\n",
    "    theta=genTheta(x)\n",
    "    e_in=np.zeros((2,len(theta)))  #e_in => 2*n+1, store the e_in errors for different s and theta\n",
    "    s_min=0\n",
    "    theta_min=0\n",
    "    e_in_min=0\n",
    "    for t in range(len(theta)):\n",
    "        e_in[0][t]=calError(y,x,theta[t],s=1)\n",
    "        e_in[1][t]=calError(y,x,theta[t],s=-1)\n",
    "    if min(e_in[0])<min(e_in[1]):  #if minimum error exists when s=1\n",
    "        s_min=1\n",
    "        theta_min=theta[np.argmin(e_in[0])]\n",
    "        e_in_min=min(e_in[0])\n",
    "    else:\n",
    "        s_min=-1\n",
    "        theta_min=theta[np.argmin(e_in[1])]\n",
    "        e_in_min=min(e_in[1])\n",
    "    return s_min, theta_min, e_in_min"
   ]
  },
  {
   "cell_type": "code",
   "execution_count": 9,
   "metadata": {},
   "outputs": [],
   "source": [
    "#extract data x from certain dimension (dim)\n",
    "#convert x from (100,9) to (100)\n",
    "def x_dim(x, dim):\n",
    "    return np.reshape(x[:,dim], len(x))"
   ]
  },
  {
   "cell_type": "markdown",
   "metadata": {},
   "source": [
    "### Q.19 & Q.20"
   ]
  },
  {
   "cell_type": "code",
   "execution_count": 10,
   "metadata": {},
   "outputs": [
    {
     "name": "stdout",
     "output_type": "stream",
     "text": [
      "E_in_min:  0.25\n",
      "E_out:  0.355\n"
     ]
    }
   ],
   "source": [
    "x_train, y_train = load_data('hw2_train.dat.txt')\n",
    "#find the best s, theta, E_in from each dimension\n",
    "s, s_min, theta, theta_min, E_in, E_in_min, dimension=0,0,0,0,0,1,0\n",
    "for i in range(9):\n",
    "    x=x_dim(x_train,i)\n",
    "    s,theta,E_in=deciStump(x,y_train)\n",
    "    if E_in<E_in_min:\n",
    "        E_in_min=E_in\n",
    "        s_min=s\n",
    "        theta_min=theta\n",
    "        dimension=i\n",
    "print('E_in_min: ', E_in_min)\n",
    "\n",
    "x_test, y_test = load_data('hw2_test.dat.txt')\n",
    "x_test=x_dim(x_test, dimension)\n",
    "E_out=calError(y_test, x_test, theta_min, s_min)\n",
    "print('E_out: ', E_out)"
   ]
  },
  {
   "cell_type": "markdown",
   "metadata": {},
   "source": [
    "### hw2. Q7"
   ]
  },
  {
   "cell_type": "code",
   "execution_count": 38,
   "metadata": {},
   "outputs": [],
   "source": [
    "data_size=20\n",
    "run=1000\n",
    "noise_rate=0.2\n",
    "E_in=0\n",
    "E_out=0\n",
    "diff_list=[]\n",
    "\n",
    "for i in range(run):\n",
    "    x=np.random.uniform(-1,1,data_size)   #x-> n dimensions\n",
    "    y=genNoise(noise_rate, data_size, x)  #y-> n dimensions\n",
    "    theta=genTheta(x)  #theta => n+1  dimensions\n",
    "    e_in=np.zeros((2,len(theta)))  #e_in => 2*n+1, store the e_in errors for different s and theta\n",
    "    s_min=0\n",
    "    theta_min=0\n",
    "    e_in_min=0\n",
    "    for t in range(len(theta)):\n",
    "        e_in[0][t]=calError(y,x,theta[t],s=1)\n",
    "        e_in[1][t]=calError(y,x,theta[t],s=-1)\n",
    "    if min(e_in[0])<min(e_in[1]):  #if minimum error exists when s=1\n",
    "        s_min=1\n",
    "        theta_min=theta[np.argmin(e_in[0])]\n",
    "        e_in_min=min(e_in[0])\n",
    "    else:\n",
    "        s_min=-1\n",
    "        theta_min=theta[np.argmin(e_in[1])]\n",
    "        e_in_min=min(e_in[1])\n",
    "    e_out=0.5+0.3*s_min*(np.abs(theta_min)-1)\n",
    "    diff_list.append(e_in_min-e_out)\n"
   ]
  },
  {
   "cell_type": "code",
   "execution_count": 39,
   "metadata": {},
   "outputs": [
    {
     "data": {
      "text/plain": [
       "<BarContainer object of 1000 artists>"
      ]
     },
     "execution_count": 39,
     "metadata": {},
     "output_type": "execute_result"
    },
    {
     "data": {
      "image/png": "[encoded data removed]",
      "text/plain": [
       "<Figure size 432x288 with 1 Axes>"
      ]
     },
     "metadata": {},
     "output_type": "display_data"
    }
   ],
   "source": [
    "%matplotlib inline\n",
    "plt.bar([i for i in range(1000)], diff_list)"
   ]
  },
  {
   "cell_type": "code",
   "execution_count": 40,
   "metadata": {},
   "outputs": [
    {
     "data": {
      "text/plain": [
       "(array([  3.,   3.,   3.,  18.,  14.,  28.,  50.,  75., 115., 115., 130.,\n",
       "        159.,  76.,  93.,  36.,  48.,  26.,   5.,   2.,   1.]),\n",
       " array([-0.4       , -0.37074525, -0.3414905 , -0.31223575, -0.28298101,\n",
       "        -0.25372626, -0.22447151, -0.19521676, -0.16596201, -0.13670726,\n",
       "        -0.10745251, -0.07819777, -0.04894302, -0.01968827,  0.00956648,\n",
       "         0.03882123,  0.06807598,  0.09733072,  0.12658547,  0.15584022,\n",
       "         0.18509497]),\n",
       " <a list of 20 Patch objects>)"
      ]
     },
     "execution_count": 40,
     "metadata": {},
     "output_type": "execute_result"
    },
    {
     "data": {
      "image/png": "[encoded data removed]",
      "text/plain": [
       "<Figure size 432x288 with 1 Axes>"
      ]
     },
     "metadata": {},
     "output_type": "display_data"
    }
   ],
   "source": [
    "%matplotlib inline\n",
    "import matplotlib.pyplot as plt\n",
    "\n",
    "plt.hist(diff_list,20)"
   ]
  }
 ],
 "metadata": {
  "kernelspec": {
   "display_name": "Python 3",
   "language": "python",
   "name": "python3"
  },
  "language_info": {
   "codemirror_mode": {
    "name": "ipython",
    "version": 3
   },
   "file_extension": ".py",
   "mimetype": "text/x-python",
   "name": "python",
   "nbconvert_exporter": "python",
   "pygments_lexer": "ipython3",
   "version": "3.6.5"
  }
 },
 "nbformat": 4,
 "nbformat_minor": 2
}
