{
 "cells": [
  {
   "cell_type": "code",
   "execution_count": 1,
   "metadata": {},
   "outputs": [],
   "source": [
    "import numpy as np"
   ]
  },
  {
   "cell_type": "code",
   "execution_count": 2,
   "metadata": {},
   "outputs": [],
   "source": [
    "#load data from file, and extract x,y and sample\n",
    "def load_data(file_path):\n",
    "    f=open(file_path,'r')\n",
    "    lines=f.readlines()\n",
    "    sample=len(lines)  #總共的sample個數\n",
    "\n",
    "    x = np.zeros((sample, 5))  #x多宣告一個維度\n",
    "    y = np.zeros((sample, 1))\n",
    "    x[:,0]=1 #強制讓第一個維度的值=1\n",
    "    index=0\n",
    "\n",
    "    for line in lines:\n",
    "        item=line.strip().split()\n",
    "        x[index,1:5]=np.array([float(i) for i in item[0:4]]).reshape(1,4)\n",
    "        y[index,0]=float(item[4])\n",
    "        index+=1\n",
    "    \n",
    "    return x,y,sample"
   ]
  },
  {
   "cell_type": "code",
   "execution_count": 21,
   "metadata": {},
   "outputs": [],
   "source": [
    "#PLA, input: x,y,sample\n",
    "#回傳PLA過幾個updates後才停止, cnt\n",
    "def PLA(x,y,sample):\n",
    "    w=np.zeros((5,1))\n",
    "    halt_flag=0  #indicate whether PLA should halt or not; 1:halt\n",
    "    cnt=0 #count after how many updates will the PLA halt\n",
    "    index=0  #iterate from 0\n",
    "    correct_cnt=0  #count how many samples already correct, if correct_cnt=sample, PLA can halt\n",
    "\n",
    "    while(halt_flag==0):\n",
    "        #check whether need update\n",
    "        if y[index,0]*(np.dot(x[index], w)[0])<=0:\n",
    "            #update w\n",
    "            w=w+y[index,0]*np.mat(x[index]).T\n",
    "            #reset correct count\n",
    "            correct_cnt=0\n",
    "            cnt+=1\n",
    "        else:\n",
    "            correct_cnt+=1\n",
    "\n",
    "        if index==sample-1:\n",
    "            index=0\n",
    "        else:\n",
    "            index+=1\n",
    "        \n",
    "        if correct_cnt==sample:\n",
    "            halt_flag=1\n",
    "            \n",
    "    return cnt"
   ]
  },
  {
   "cell_type": "markdown",
   "metadata": {},
   "source": [
    "## Q.15"
   ]
  },
  {
   "cell_type": "code",
   "execution_count": 22,
   "metadata": {},
   "outputs": [
    {
     "name": "stdout",
     "output_type": "stream",
     "text": [
      "total updates:  45\n"
     ]
    }
   ],
   "source": [
    "x,y,sample=load_data('hw1_7_train.dat.txt')\n",
    "update=PLA(x,y,sample)\n",
    "print(\"total updates: \", update)"
   ]
  },
  {
   "cell_type": "code",
   "execution_count": 26,
   "metadata": {},
   "outputs": [],
   "source": [
    "#PLA given random index cycle\n",
    "def PLA_rancycle(x,y,sample,index_list,learning_rate):\n",
    "    w=np.zeros((5,1))\n",
    "    halt_flag=0  #indicate whether PLA should halt or not; 1:halt\n",
    "    cnt=0 #count after how many updates will the PLA halt\n",
    "    index=0  #iterate from 0\n",
    "    correct_cnt=0  #count how many samples already correct, if correct_cnt=sample, PLA can halt\n",
    "\n",
    "    while(halt_flag==0):\n",
    "        ran_index=index_list[index]\n",
    "        #check whether need update\n",
    "        if y[ran_index,0]*(np.dot(x[ran_index], w)[0])<=0:\n",
    "            #update w\n",
    "            w=w+learning_rate*y[ran_index,0]*np.mat(x[ran_index]).T\n",
    "            #reset correct count\n",
    "            correct_cnt=0\n",
    "            cnt+=1\n",
    "        else:\n",
    "            correct_cnt+=1\n",
    "\n",
    "        if index==sample-1:\n",
    "            index=0\n",
    "        else:\n",
    "            index+=1\n",
    "        \n",
    "        if correct_cnt==sample:\n",
    "            halt_flag=1\n",
    "            \n",
    "    return cnt"
   ]
  },
  {
   "cell_type": "markdown",
   "metadata": {},
   "source": [
    "## Q.16"
   ]
  },
  {
   "cell_type": "code",
   "execution_count": 27,
   "metadata": {},
   "outputs": [
    {
     "name": "stdout",
     "output_type": "stream",
     "text": [
      "40.5925\n"
     ]
    }
   ],
   "source": [
    "import random\n",
    "x,y,sample=load_data('hw1_7_train.dat.txt')\n",
    "update_list=[]\n",
    "\n",
    "for i in range(2000):\n",
    "    index_list=list(range(0,400))\n",
    "    random.shuffle(index_list)\n",
    "    update_list.append(PLA_rancycle(x,y,sample,index_list,1))\n",
    "    \n",
    "avg=sum(update_list)/2000\n",
    "print(avg)"
   ]
  },
  {
   "cell_type": "markdown",
   "metadata": {},
   "source": [
    "## Q.17\n",
    "* similar to Q.16, only replace learning rate to 0.5"
   ]
  },
  {
   "cell_type": "code",
   "execution_count": 28,
   "metadata": {},
   "outputs": [
    {
     "name": "stdout",
     "output_type": "stream",
     "text": [
      "40.6525\n"
     ]
    }
   ],
   "source": [
    "import random\n",
    "x,y,sample=load_data('hw1_7_train.dat.txt')\n",
    "update_list=[]\n",
    "\n",
    "for i in range(2000):\n",
    "    index_list=list(range(0,400))\n",
    "    random.shuffle(index_list)\n",
    "    update_list.append(PLA_rancycle(x,y,sample,index_list,0.5))\n",
    "    \n",
    "avg=sum(update_list)/2000\n",
    "print(avg)"
   ]
  },
  {
   "cell_type": "code",
   "execution_count": 46,
   "metadata": {},
   "outputs": [],
   "source": [
    "#calculate error rate, given w\n",
    "def PLA_err(x,y,sample,w):\n",
    "    correct,incorrect=0, 0\n",
    "    #check every sample to count correct/ incorrect number\n",
    "    for i in range(sample):\n",
    "        if y[i,0]*(np.dot(x[i], w)[0])<=0:\n",
    "            incorrect+=1\n",
    "        else:\n",
    "            correct+=1\n",
    "    err=incorrect/sample\n",
    "    return err"
   ]
  },
  {
   "cell_type": "code",
   "execution_count": 47,
   "metadata": {},
   "outputs": [],
   "source": [
    "def PLA_pocket(x,y,sample,index_list,learning_rate,updates):\n",
    "    w_pocket, w=np.zeros((5,1)), np.zeros((5,1))\n",
    "    halt_flag=0  #indicate whether PLA should halt or not; 1:halt\n",
    "    cnt=0 #count how many updates PLA has already done\n",
    "    index=0  #iterate from 0\n",
    "    \n",
    "    while(halt_flag==0):\n",
    "        ran_index=index_list[index]\n",
    "        #check whether need update\n",
    "        if y[ran_index,0]*(np.dot(x[ran_index], w)[0])<=0:\n",
    "            #update w\n",
    "            w=w+learning_rate*y[ran_index,0]*np.mat(x[ran_index]).T\n",
    "            cnt+=1\n",
    "            \n",
    "            #check if we need to update w_pocket by comparing error rate\n",
    "            if PLA_err(x,y,sample,w)<PLA_err(x,y,sample,w_pocket):\n",
    "                w_pocket=w\n",
    "\n",
    "        if index==sample-1:\n",
    "            index=0\n",
    "        else:\n",
    "            index+=1\n",
    "        \n",
    "        if cnt==updates:\n",
    "            halt_flag=1\n",
    "            \n",
    "    return w_pocket, w"
   ]
  },
  {
   "cell_type": "markdown",
   "metadata": {},
   "source": [
    "## Q.18"
   ]
  },
  {
   "cell_type": "code",
   "execution_count": 51,
   "metadata": {},
   "outputs": [
    {
     "ename": "KeyboardInterrupt",
     "evalue": "",
     "output_type": "error",
     "traceback": [
      "\u001b[1;31m---------------------------------------------------------------------------\u001b[0m",
      "\u001b[1;31mKeyboardInterrupt\u001b[0m                         Traceback (most recent call last)",
      "\u001b[1;32m<ipython-input-51-f40b2f3ae0bb>\u001b[0m in \u001b[0;36m<module>\u001b[1;34m()\u001b[0m\n\u001b[0;32m     12\u001b[0m     \u001b[0mindex_train\u001b[0m\u001b[1;33m=\u001b[0m\u001b[0mlist\u001b[0m\u001b[1;33m(\u001b[0m\u001b[0mrange\u001b[0m\u001b[1;33m(\u001b[0m\u001b[1;36m0\u001b[0m\u001b[1;33m,\u001b[0m\u001b[0msample\u001b[0m\u001b[1;33m)\u001b[0m\u001b[1;33m)\u001b[0m\u001b[1;33m\u001b[0m\u001b[0m\n\u001b[0;32m     13\u001b[0m     \u001b[0mrandom\u001b[0m\u001b[1;33m.\u001b[0m\u001b[0mshuffle\u001b[0m\u001b[1;33m(\u001b[0m\u001b[0mindex_train\u001b[0m\u001b[1;33m)\u001b[0m\u001b[1;33m\u001b[0m\u001b[0m\n\u001b[1;32m---> 14\u001b[1;33m     \u001b[0mw_pocket\u001b[0m\u001b[1;33m,\u001b[0m \u001b[0mw\u001b[0m\u001b[1;33m=\u001b[0m\u001b[0mPLA_pocket\u001b[0m\u001b[1;33m(\u001b[0m\u001b[0mx\u001b[0m\u001b[1;33m,\u001b[0m\u001b[0my\u001b[0m\u001b[1;33m,\u001b[0m\u001b[0msample\u001b[0m\u001b[1;33m,\u001b[0m\u001b[0mindex_train\u001b[0m\u001b[1;33m,\u001b[0m\u001b[0mlearning_rate\u001b[0m\u001b[1;33m,\u001b[0m\u001b[0mupdates\u001b[0m\u001b[1;33m)\u001b[0m\u001b[1;33m\u001b[0m\u001b[0m\n\u001b[0m\u001b[0;32m     15\u001b[0m     \u001b[0merr\u001b[0m\u001b[1;33m=\u001b[0m\u001b[0mPLA_err\u001b[0m\u001b[1;33m(\u001b[0m\u001b[0mx_test\u001b[0m\u001b[1;33m,\u001b[0m\u001b[0my_test\u001b[0m\u001b[1;33m,\u001b[0m\u001b[0msample_test\u001b[0m\u001b[1;33m,\u001b[0m\u001b[0mw_pocket\u001b[0m\u001b[1;33m)\u001b[0m\u001b[1;33m\u001b[0m\u001b[0m\n\u001b[0;32m     16\u001b[0m     \u001b[0merr_list\u001b[0m\u001b[1;33m.\u001b[0m\u001b[0mappend\u001b[0m\u001b[1;33m(\u001b[0m\u001b[0merr\u001b[0m\u001b[1;33m)\u001b[0m\u001b[1;33m\u001b[0m\u001b[0m\n",
      "\u001b[1;32m<ipython-input-47-77adb17870a7>\u001b[0m in \u001b[0;36mPLA_pocket\u001b[1;34m(x, y, sample, index_list, learning_rate, updates)\u001b[0m\n\u001b[0;32m     14\u001b[0m \u001b[1;33m\u001b[0m\u001b[0m\n\u001b[0;32m     15\u001b[0m             \u001b[1;31m#check if we need to update w_pocket by comparing error rate\u001b[0m\u001b[1;33m\u001b[0m\u001b[1;33m\u001b[0m\u001b[0m\n\u001b[1;32m---> 16\u001b[1;33m             \u001b[1;32mif\u001b[0m \u001b[0mPLA_err\u001b[0m\u001b[1;33m(\u001b[0m\u001b[0mx\u001b[0m\u001b[1;33m,\u001b[0m\u001b[0my\u001b[0m\u001b[1;33m,\u001b[0m\u001b[0msample\u001b[0m\u001b[1;33m,\u001b[0m\u001b[0mw\u001b[0m\u001b[1;33m)\u001b[0m\u001b[1;33m<\u001b[0m\u001b[0mPLA_err\u001b[0m\u001b[1;33m(\u001b[0m\u001b[0mx\u001b[0m\u001b[1;33m,\u001b[0m\u001b[0my\u001b[0m\u001b[1;33m,\u001b[0m\u001b[0msample\u001b[0m\u001b[1;33m,\u001b[0m\u001b[0mw_pocket\u001b[0m\u001b[1;33m)\u001b[0m\u001b[1;33m:\u001b[0m\u001b[1;33m\u001b[0m\u001b[0m\n\u001b[0m\u001b[0;32m     17\u001b[0m                 \u001b[0mw_pocket\u001b[0m\u001b[1;33m=\u001b[0m\u001b[0mw\u001b[0m\u001b[1;33m\u001b[0m\u001b[0m\n\u001b[0;32m     18\u001b[0m \u001b[1;33m\u001b[0m\u001b[0m\n",
      "\u001b[1;32m<ipython-input-46-d1d1ae7ccf89>\u001b[0m in \u001b[0;36mPLA_err\u001b[1;34m(x, y, sample, w)\u001b[0m\n\u001b[0;32m      4\u001b[0m     \u001b[1;31m#check every sample to count correct/ incorrect number\u001b[0m\u001b[1;33m\u001b[0m\u001b[1;33m\u001b[0m\u001b[0m\n\u001b[0;32m      5\u001b[0m     \u001b[1;32mfor\u001b[0m \u001b[0mi\u001b[0m \u001b[1;32min\u001b[0m \u001b[0mrange\u001b[0m\u001b[1;33m(\u001b[0m\u001b[0msample\u001b[0m\u001b[1;33m)\u001b[0m\u001b[1;33m:\u001b[0m\u001b[1;33m\u001b[0m\u001b[0m\n\u001b[1;32m----> 6\u001b[1;33m         \u001b[1;32mif\u001b[0m \u001b[0my\u001b[0m\u001b[1;33m[\u001b[0m\u001b[0mi\u001b[0m\u001b[1;33m,\u001b[0m\u001b[1;36m0\u001b[0m\u001b[1;33m]\u001b[0m\u001b[1;33m*\u001b[0m\u001b[1;33m(\u001b[0m\u001b[0mnp\u001b[0m\u001b[1;33m.\u001b[0m\u001b[0mdot\u001b[0m\u001b[1;33m(\u001b[0m\u001b[0mx\u001b[0m\u001b[1;33m[\u001b[0m\u001b[0mi\u001b[0m\u001b[1;33m]\u001b[0m\u001b[1;33m,\u001b[0m \u001b[0mw\u001b[0m\u001b[1;33m)\u001b[0m\u001b[1;33m[\u001b[0m\u001b[1;36m0\u001b[0m\u001b[1;33m]\u001b[0m\u001b[1;33m)\u001b[0m\u001b[1;33m<=\u001b[0m\u001b[1;36m0\u001b[0m\u001b[1;33m:\u001b[0m\u001b[1;33m\u001b[0m\u001b[0m\n\u001b[0m\u001b[0;32m      7\u001b[0m             \u001b[0mincorrect\u001b[0m\u001b[1;33m+=\u001b[0m\u001b[1;36m1\u001b[0m\u001b[1;33m\u001b[0m\u001b[0m\n\u001b[0;32m      8\u001b[0m         \u001b[1;32melse\u001b[0m\u001b[1;33m:\u001b[0m\u001b[1;33m\u001b[0m\u001b[0m\n",
      "\u001b[1;31mKeyboardInterrupt\u001b[0m: "
     ]
    }
   ],
   "source": [
    "x,y,sample=load_data('hw1_18_train.dat.txt')\n",
    "x_test,y_test,sample_test=load_data('hw1_18_test.dat.txt')\n",
    "\n",
    "learning_rate, updates=1, 50\n",
    "err_list=[]\n",
    "\"\"\"\n",
    "w_test=PLA_pocket(x,y,sample,index_train,learning_rate,updates)\n",
    "err_test=PLA_err(x_test,y_test,sample_test,w_test)\n",
    "err_list.append(err_test)\n",
    "\"\"\"\n",
    "for i in range(2000):\n",
    "    index_train=list(range(0,sample))\n",
    "    random.shuffle(index_train)\n",
    "    w_pocket, w=PLA_pocket(x,y,sample,index_train,learning_rate,updates)\n",
    "    err=PLA_err(x_test,y_test,sample_test,w_pocket)\n",
    "    err_list.append(err)\n",
    "\n",
    "\n",
    "avg=sum(err_list)/2000\n",
    "print(avg)"
   ]
  },
  {
   "cell_type": "markdown",
   "metadata": {},
   "source": [
    "## Q.19"
   ]
  },
  {
   "cell_type": "code",
   "execution_count": null,
   "metadata": {},
   "outputs": [],
   "source": [
    "x,y,sample=load_data('hw1_18_train.dat.txt')\n",
    "x_test,y_test,sample_test=load_data('hw1_18_test.dat.txt')\n",
    "\n",
    "learning_rate, updates=1, 50\n",
    "err_list=[]\n",
    "\n",
    "for i in range(2000):\n",
    "    index_train=list(range(0,sample))\n",
    "    random.shuffle(index_train)\n",
    "    w_pocket, w=PLA_pocket(x,y,sample,index_train,learning_rate,updates)\n",
    "    err_list.append(PLA_err(x_test,y_test,sample_test,w))\n",
    "    \n",
    "avg=sum(err_list)/2000\n",
    "print(avg)"
   ]
  },
  {
   "cell_type": "markdown",
   "metadata": {},
   "source": [
    "## Q.20"
   ]
  },
  {
   "cell_type": "code",
   "execution_count": null,
   "metadata": {},
   "outputs": [],
   "source": [
    "x,y,sample=load_data('hw1_18_train.dat.txt')\n",
    "x_test,y_test,sample_test=load_data('hw1_18_test.dat.txt')\n",
    "\n",
    "learning_rate, updates=1, 100\n",
    "err_list=[]\n",
    "\n",
    "for i in range(2000):\n",
    "    index_train=list(range(0,sample))\n",
    "    random.shuffle(index_train)\n",
    "    w_pocket, w=PLA_pocket(x,y,sample,index_train,learning_rate,updates)\n",
    "    err_list.append(PLA_err(x_test,y_test,sample_test,w_pocket))\n",
    "    \n",
    "avg=sum(err_list)/2000\n",
    "print(avg)"
   ]
  }
 ],
 "metadata": {
  "kernelspec": {
   "display_name": "Python 3",
   "language": "python",
   "name": "python3"
  },
  "language_info": {
   "codemirror_mode": {
    "name": "ipython",
    "version": 3
   },
   "file_extension": ".py",
   "mimetype": "text/x-python",
   "name": "python",
   "nbconvert_exporter": "python",
   "pygments_lexer": "ipython3",
   "version": "3.6.5"
  }
 },
 "nbformat": 4,
 "nbformat_minor": 2
}
