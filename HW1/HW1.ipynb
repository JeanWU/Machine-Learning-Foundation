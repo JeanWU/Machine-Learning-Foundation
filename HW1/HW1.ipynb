{
 "cells": [
  {
   "cell_type": "code",
   "execution_count": 2,
   "metadata": {},
   "outputs": [],
   "source": [
    "import numpy as np"
   ]
  },
  {
   "cell_type": "code",
   "execution_count": 3,
   "metadata": {},
   "outputs": [],
   "source": [
    "#load data from file, and extract x,y and sample\n",
    "def load_data(file_path):\n",
    "    f=open(file_path,'r')\n",
    "    lines=f.readlines()\n",
    "    sample=len(lines)  #總共的sample個數\n",
    "\n",
    "    x = np.zeros((sample, 5))  #x多宣告一個維度\n",
    "    y = np.zeros((sample, 1))\n",
    "    x[:,0]=1 #強制讓第一個維度的值=1\n",
    "    index=0\n",
    "\n",
    "    for line in lines:\n",
    "        item=line.strip().split()\n",
    "        x[index,1:5]=np.array([float(i) for i in item[0:4]]).reshape(1,4)\n",
    "        y[index,0]=float(item[4])\n",
    "        index+=1\n",
    "    \n",
    "    return x,y,sample"
   ]
  },
  {
   "cell_type": "code",
   "execution_count": 4,
   "metadata": {},
   "outputs": [],
   "source": [
    "#PLA, input: x,y,sample\n",
    "#回傳PLA過幾個updates後才停止, cnt\n",
    "def PLA(x,y,sample):\n",
    "    w=np.zeros((5,1))\n",
    "    halt_flag=0  #indicate whether PLA should halt or not; 1:halt\n",
    "    cnt=0 #count after how many updates will the PLA halt\n",
    "    index=0  #iterate from 0\n",
    "    correct_cnt=0  #count how many samples already correct, if correct_cnt=sample, PLA can halt\n",
    "\n",
    "    while(halt_flag==0):\n",
    "        #check whether need update\n",
    "        if y[index,0]*(np.dot(x[index], w)[0])<=0:\n",
    "            #update w\n",
    "            w=w+y[index,0]*np.mat(x[index]).T\n",
    "            #reset correct count\n",
    "            correct_cnt=0\n",
    "            cnt+=1\n",
    "        else:\n",
    "            correct_cnt+=1\n",
    "\n",
    "        if index==sample-1:\n",
    "            index=0\n",
    "        else:\n",
    "            index+=1\n",
    "        \n",
    "        if correct_cnt==sample:\n",
    "            halt_flag=1\n",
    "            \n",
    "    return cnt"
   ]
  },
  {
   "cell_type": "markdown",
   "metadata": {},
   "source": [
    "## Coursera Q.15"
   ]
  },
  {
   "cell_type": "code",
   "execution_count": 4,
   "metadata": {},
   "outputs": [
    {
     "name": "stdout",
     "output_type": "stream",
     "text": [
      "total updates:  45\n"
     ]
    }
   ],
   "source": [
    "x,y,sample=load_data('hw1_7_train.dat.txt')\n",
    "update=PLA(x,y,sample)\n",
    "print(\"total updates: \", update)"
   ]
  },
  {
   "cell_type": "code",
   "execution_count": 5,
   "metadata": {},
   "outputs": [],
   "source": [
    "#PLA given random index cycle\n",
    "def PLA_rancycle(x,y,sample,index_list,learning_rate):\n",
    "    w=np.zeros((5,1))\n",
    "    halt_flag=0  #indicate whether PLA should halt or not; 1:halt\n",
    "    cnt=0 #count after how many updates will the PLA halt\n",
    "    index=0  #iterate from 0\n",
    "    correct_cnt=0  #count how many samples already correct, if correct_cnt=sample, PLA can halt\n",
    "\n",
    "    while(halt_flag==0):\n",
    "        ran_index=index_list[index]\n",
    "        #check whether need update\n",
    "        if y[ran_index,0]*(np.dot(x[ran_index], w)[0])<=0:\n",
    "            #update w\n",
    "            w=w+learning_rate*y[ran_index,0]*np.mat(x[ran_index]).T\n",
    "            #reset correct count\n",
    "            correct_cnt=0\n",
    "            cnt+=1\n",
    "        else:\n",
    "            correct_cnt+=1\n",
    "\n",
    "        if index==sample-1:\n",
    "            index=0\n",
    "        else:\n",
    "            index+=1\n",
    "        \n",
    "        if correct_cnt==sample:\n",
    "            halt_flag=1\n",
    "            \n",
    "    return cnt"
   ]
  },
  {
   "cell_type": "markdown",
   "metadata": {},
   "source": [
    "## Coursera Q.16"
   ]
  },
  {
   "cell_type": "code",
   "execution_count": 6,
   "metadata": {},
   "outputs": [
    {
     "name": "stdout",
     "output_type": "stream",
     "text": [
      "40.081\n"
     ]
    }
   ],
   "source": [
    "import random\n",
    "x,y,sample=load_data('hw1_7_train.dat.txt')\n",
    "update_list=[]\n",
    "\n",
    "for i in range(2000):\n",
    "    index_list=list(range(0,400))\n",
    "    random.shuffle(index_list)\n",
    "    update_list.append(PLA_rancycle(x,y,sample,index_list,1))\n",
    "    \n",
    "avg=sum(update_list)/2000\n",
    "print(avg)"
   ]
  },
  {
   "cell_type": "markdown",
   "metadata": {},
   "source": [
    "## Coursera Q.17\n",
    "* similar to Q.16, only replace learning rate to 0.5"
   ]
  },
  {
   "cell_type": "code",
   "execution_count": 7,
   "metadata": {},
   "outputs": [
    {
     "name": "stdout",
     "output_type": "stream",
     "text": [
      "39.96\n"
     ]
    }
   ],
   "source": [
    "import random\n",
    "x,y,sample=load_data('hw1_7_train.dat.txt')\n",
    "update_list=[]\n",
    "\n",
    "for i in range(2000):\n",
    "    index_list=list(range(0,400))\n",
    "    random.shuffle(index_list)\n",
    "    update_list.append(PLA_rancycle(x,y,sample,index_list,0.5))\n",
    "    \n",
    "avg=sum(update_list)/2000\n",
    "print(avg)"
   ]
  },
  {
   "cell_type": "code",
   "execution_count": 66,
   "metadata": {},
   "outputs": [],
   "source": [
    "#calculate error rate, given w\n",
    "def PLA_err(x,y,sample,w):\n",
    "    correct,incorrect=0, 0\n",
    "    #check every sample to count correct/ incorrect number\n",
    "    for i in range(sample):\n",
    "        if np.sign(y[i])!=np.sign((np.dot(x[i], w))):\n",
    "            incorrect+=1\n",
    "        else:\n",
    "            correct+=1\n",
    "    err=incorrect/sample\n",
    "    return err"
   ]
  },
  {
   "cell_type": "code",
   "execution_count": 71,
   "metadata": {},
   "outputs": [],
   "source": [
    "def PLA_pocket(x,y,sample,index_list,learning_rate,updates):\n",
    "    w_pocket, w=np.zeros((5,1)), np.zeros((5,1))\n",
    "    #halt_flag=0  #indicate whether PLA should halt or not; 1:halt\n",
    "    #cnt=0 #count how many updates PLA has already done\n",
    "    #index=0  #iterate from 0\n",
    "    w_pocket_err=PLA_err(x,y,sample,w_pocket)  #store w_pocket error rate\n",
    "    \"\"\"\n",
    "    while(cnt!=updates):\n",
    "        ran_index=index_list[index]\n",
    "        #check whether need update\n",
    "        if y[ran_index,0]*(np.dot(x[ran_index], w)[0])<=0:\n",
    "            #update w\n",
    "            w=w+learning_rate*y[ran_index,0]*np.mat(x[ran_index]).T\n",
    "            cnt+=1\n",
    "            \n",
    "            w_err=PLA_err(x,y,sample,w)\n",
    "            #check if we need to update w_pocket by comparing error rate\n",
    "            if w_err < w_pocket_err:\n",
    "                w_pocket=w\n",
    "                w_pocket_err=w_err\n",
    "\n",
    "        if index==sample-1:\n",
    "            index=0\n",
    "        else:\n",
    "            index+=1\n",
    "        \n",
    "        #if cnt==updates:\n",
    "            #halt_flag=1\n",
    "    \"\"\"\n",
    "    for i in range(updates):\n",
    "        ran_index=index_list[i]\n",
    "        #check whether need update\n",
    "        #if y[ran_index,0]*(np.dot(x[ran_index], w)[0])<=0:\n",
    "        if np.sign(y[ran_index])!=np.sign((np.dot(x[ran_index], w))):\n",
    "            #update w\n",
    "            #w=w+learning_rate*y[ran_index,0]*np.mat(x[ran_index]).T\n",
    "            w=w+np.mat(learning_rate*y[ran_index]*x[ran_index]).T\n",
    "            #w=w+learning_rate*y[ran_index,0]*np.array(x[ran_index]).T\n",
    "            \n",
    "            w_err=PLA_err(x,y,sample,w)\n",
    "            #check if we need to update w_pocket by comparing error rate\n",
    "            if w_err < w_pocket_err:\n",
    "                w_pocket=w\n",
    "                w_pocket_err=w_err\n",
    "            \n",
    "    return w_pocket_err, w_err"
   ]
  },
  {
   "cell_type": "code",
   "execution_count": 59,
   "metadata": {},
   "outputs": [
    {
     "data": {
      "text/plain": [
       "array([1.     , 0.94544, 0.42842, 0.79833, 0.16244])"
      ]
     },
     "execution_count": 59,
     "metadata": {},
     "output_type": "execute_result"
    }
   ],
   "source": [
    "x[0]"
   ]
  },
  {
   "cell_type": "markdown",
   "metadata": {},
   "source": [
    "## Coursera Q.18"
   ]
  },
  {
   "cell_type": "code",
   "execution_count": 72,
   "metadata": {},
   "outputs": [
    {
     "name": "stdout",
     "output_type": "stream",
     "text": [
      "0.18712399999999998\n"
     ]
    }
   ],
   "source": [
    "x,y,sample=load_data('hw1_18_train.dat.txt')\n",
    "x_test,y_test,sample_test=load_data('hw1_18_test.dat.txt')\n",
    "\n",
    "learning_rate, updates=1, 50\n",
    "err_list=[]\n",
    "\"\"\"\n",
    "w_test=PLA_pocket(x,y,sample,index_train,learning_rate,updates)\n",
    "err_test=PLA_err(x_test,y_test,sample_test,w_test)\n",
    "err_list.append(err_test)\n",
    "\"\"\"\n",
    "for i in range(2000):\n",
    "    index_train=list(range(0,sample))\n",
    "    random.shuffle(index_train)\n",
    "    w_pocket_err, w_err=PLA_pocket(x,y,sample,index_train,learning_rate,updates)\n",
    "    err_list.append(w_pocket_err)\n",
    "\n",
    "\n",
    "avg=sum(err_list)/2000\n",
    "print(avg)"
   ]
  },
  {
   "cell_type": "markdown",
   "metadata": {},
   "source": [
    "## Coursera Q.19"
   ]
  },
  {
   "cell_type": "code",
   "execution_count": 84,
   "metadata": {},
   "outputs": [
    {
     "name": "stdout",
     "output_type": "stream",
     "text": [
      "0.30718899999999966\n",
      "Wall time: 2min 19s\n"
     ]
    }
   ],
   "source": [
    "%%time\n",
    "x,y,sample=load_data('hw1_18_train.dat.txt')\n",
    "x_test,y_test,sample_test=load_data('hw1_18_test.dat.txt')\n",
    "\n",
    "learning_rate, updates=1, 50\n",
    "err_list=[]\n",
    "\n",
    "for i in range(2000):\n",
    "    index_train=list(range(0,sample))\n",
    "    random.shuffle(index_train)\n",
    "    w_pocket_err, w_err=PLA_pocket(x,y,sample,index_train,learning_rate,updates)\n",
    "    err_list.append(w_err)\n",
    "    \n",
    "avg=sum(err_list)/2000\n",
    "print(avg)"
   ]
  },
  {
   "cell_type": "markdown",
   "metadata": {},
   "source": [
    "## Coursera Q.20"
   ]
  },
  {
   "cell_type": "code",
   "execution_count": 86,
   "metadata": {},
   "outputs": [
    {
     "name": "stdout",
     "output_type": "stream",
     "text": [
      "0.14210299999999945\n",
      "Wall time: 4min 10s\n"
     ]
    }
   ],
   "source": [
    "%%time\n",
    "x,y,sample=load_data('hw1_18_train.dat.txt')\n",
    "x_test,y_test,sample_test=load_data('hw1_18_test.dat.txt')\n",
    "\n",
    "learning_rate, updates=1, 100\n",
    "err_list=[]\n",
    "\n",
    "for i in range(2000):\n",
    "    index_train=list(range(0,sample))\n",
    "    random.shuffle(index_train)\n",
    "    w_pocket_err, w_err=PLA_pocket(x,y,sample,index_train,learning_rate,updates)\n",
    "    err_list.append(w_pocket_err)\n",
    "    \n",
    "avg=sum(err_list)/2000\n",
    "print(avg)"
   ]
  },
  {
   "cell_type": "markdown",
   "metadata": {},
   "source": [
    "## Q. 7"
   ]
  },
  {
   "cell_type": "code",
   "execution_count": 8,
   "metadata": {},
   "outputs": [
    {
     "name": "stdout",
     "output_type": "stream",
     "text": [
      "39.54893238434164\n",
      "Wall time: 11.6 s\n"
     ]
    }
   ],
   "source": [
    "%%time\n",
    "import random\n",
    "x,y,sample=load_data('hw1_7_train.dat.txt')\n",
    "update_list=[]\n",
    "\n",
    "for i in range(1124):\n",
    "    index_list=list(range(0,400))\n",
    "    random.shuffle(index_list)\n",
    "    update_list.append(PLA_rancycle(x,y,sample,index_list,1))\n",
    "    \n",
    "avg=sum(update_list)/1124\n",
    "print(avg)"
   ]
  },
  {
   "cell_type": "code",
   "execution_count": 13,
   "metadata": {},
   "outputs": [
    {
     "data": {
      "text/plain": [
       "77"
      ]
     },
     "execution_count": 13,
     "metadata": {},
     "output_type": "execute_result"
    }
   ],
   "source": [
    "max(update_list)"
   ]
  },
  {
   "cell_type": "code",
   "execution_count": 14,
   "metadata": {},
   "outputs": [
    {
     "data": {
      "text/plain": [
       "(array([  0.,   0.,   0.,   0.,   0.,   0.,   0.,   2.,   0.,   4.,   0.,\n",
       "          2.,   0.,   3.,   0.,   0.,   1.,   0.,  10.,   0.,  31.,   0.,\n",
       "         54.,   0.,  42.,   0.,  26.,   1.,  15.,   6.,   3.,  17.,   0.,\n",
       "         59.,   0.,  99.,   0., 139.,   0., 120.,   0., 113.,   0.,  80.,\n",
       "          2.,  29.,   2.,  16.,   9.,   7.,  16.,   0.,  32.,   0.,  52.,\n",
       "          0.,  38.,   0.,  35.,   0.,  30.,   0.,  15.,   0.,   6.,   0.,\n",
       "          3.,   0.,   3.,   0.,   0.,   0.,   0.,   1.,   0.,   0.,   0.,\n",
       "          1.,   0.]),\n",
       " array([ 0,  1,  2,  3,  4,  5,  6,  7,  8,  9, 10, 11, 12, 13, 14, 15, 16,\n",
       "        17, 18, 19, 20, 21, 22, 23, 24, 25, 26, 27, 28, 29, 30, 31, 32, 33,\n",
       "        34, 35, 36, 37, 38, 39, 40, 41, 42, 43, 44, 45, 46, 47, 48, 49, 50,\n",
       "        51, 52, 53, 54, 55, 56, 57, 58, 59, 60, 61, 62, 63, 64, 65, 66, 67,\n",
       "        68, 69, 70, 71, 72, 73, 74, 75, 76, 77, 78, 79]),\n",
       " <a list of 79 Patch objects>)"
      ]
     },
     "execution_count": 14,
     "metadata": {},
     "output_type": "execute_result"
    },
    {
     "data": {
      "image/png": "[encoded data removed]",
      "text/plain": [
       "<Figure size 432x288 with 1 Axes>"
      ]
     },
     "metadata": {},
     "output_type": "display_data"
    }
   ],
   "source": [
    "%matplotlib inline\n",
    "import matplotlib.pyplot as plt\n",
    "\n",
    "bins=np.arange(0,80)\n",
    "plt.hist(update_list,bins)"
   ]
  }
 ],
 "metadata": {
  "kernelspec": {
   "display_name": "Python 3",
   "language": "python",
   "name": "python3"
  },
  "language_info": {
   "codemirror_mode": {
    "name": "ipython",
    "version": 3
   },
   "file_extension": ".py",
   "mimetype": "text/x-python",
   "name": "python",
   "nbconvert_exporter": "python",
   "pygments_lexer": "ipython3",
   "version": "3.6.5"
  }
 },
 "nbformat": 4,
 "nbformat_minor": 2
}
